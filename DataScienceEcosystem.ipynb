{
 "cells": [
  {
   "cell_type": "markdown",
   "id": "95c428e2-b14d-461e-a540-8186cd45e53d",
   "metadata": {},
   "source": [
    "# Data Science Tools and Ecosystem"
   ]
  },
  {
   "cell_type": "markdown",
   "id": "93be04a9-be05-4288-a343-5485b575ffd1",
   "metadata": {},
   "source": [
    "**Objectives**\n",
    "- List popular languages for Data Science\n",
    "- List commonly used libraries for Data Science\n",
    "- Table of Data Science tools\n",
    "- Arithmetic expressions in Python"
   ]
  },
  {
   "cell_type": "markdown",
   "id": "b21ff8ad-9768-4416-b263-bc35a984e13c",
   "metadata": {},
   "source": [
    "Some of the popular languages that Data Scientists use are:\n",
    "- python\n",
    "- R\n",
    "- Julia"
   ]
  },
  {
   "cell_type": "markdown",
   "id": "3a9227cb-15b3-4607-92e4-aac58120a631",
   "metadata": {},
   "source": [
    "Some of the commonly used libraries used by Data Scientists include\n",
    "\n",
    "- matplotlib\n",
    "- pandas\n",
    "- numpy\n",
    "- seaborn"
   ]
  },
  {
   "cell_type": "markdown",
   "id": "41f13342-e7c6-4780-a844-d6297d0789f4",
   "metadata": {
    "tags": []
   },
   "source": [
    "\n",
    "|     Data Science Tools         |\n",
    "|--------------------------------|\n",
    "|    Jupyter Notebook            |\n",
    "|    Git                         |\n",
    "|    Kubernetes                  |\n",
    "|    MySQL                       |\n",
    "|    Apache Spark                |"
   ]
  },
  {
   "cell_type": "markdown",
   "id": "905d9234-98df-4be5-b74f-e1fd694a57f6",
   "metadata": {
    "tags": []
   },
   "source": [
    "### Below are a few examples of evaluating arithmetic expressions in Python"
   ]
  },
  {
   "cell_type": "code",
   "execution_count": 3,
   "id": "945ccd34-ffc1-4848-82b3-84e7335ca2a2",
   "metadata": {
    "tags": []
   },
   "outputs": [
    {
     "data": {
      "text/plain": [
       "17"
      ]
     },
     "execution_count": 3,
     "metadata": {},
     "output_type": "execute_result"
    }
   ],
   "source": [
    "# This a simple arithmetic expression to mutiply then add integers\n",
    "(3*4)+5"
   ]
  },
  {
   "cell_type": "code",
   "execution_count": 4,
   "id": "de8baf1c-54fe-4858-af7b-1cb07c3f0e5b",
   "metadata": {
    "tags": []
   },
   "outputs": [
    {
     "data": {
      "text/plain": [
       "3.3333333333333335"
      ]
     },
     "execution_count": 4,
     "metadata": {},
     "output_type": "execute_result"
    }
   ],
   "source": [
    "# This will convert 200 minutes to hours by diving by 60\n",
    "200/60"
   ]
  },
  {
   "cell_type": "markdown",
   "id": "10f22409-78b1-43dc-a27f-fc69e2a605dd",
   "metadata": {},
   "source": [
    "## Author\n",
    "Tolulope Kuyoro"
   ]
  }
 ],
 "metadata": {
  "kernelspec": {
   "display_name": "Python",
   "language": "python",
   "name": "conda-env-python-py"
  },
  "language_info": {
   "codemirror_mode": {
    "name": "ipython",
    "version": 3
   },
   "file_extension": ".py",
   "mimetype": "text/x-python",
   "name": "python",
   "nbconvert_exporter": "python",
   "pygments_lexer": "ipython3",
   "version": "3.7.12"
  }
 },
 "nbformat": 4,
 "nbformat_minor": 5
}
